{
 "cells": [
  {
   "cell_type": "code",
   "execution_count": 4,
   "metadata": {},
   "outputs": [],
   "source": [
    "import pandas as pd\n",
    "import numpy as np\n",
    "import matplotlib.pyplot as plt\n",
    "import datetime\n",
    "from glob import glob\n",
    "import os\n",
    "import toc_functions"
   ]
  },
  {
   "cell_type": "code",
   "execution_count": 3,
   "metadata": {},
   "outputs": [
    {
     "ename": "NameError",
     "evalue": "name 'os' is not defined",
     "output_type": "error",
     "traceback": [
      "\u001b[1;31m---------------------------------------------------------------------------\u001b[0m",
      "\u001b[1;31mNameError\u001b[0m                                 Traceback (most recent call last)",
      "Cell \u001b[1;32mIn[3], line 1\u001b[0m\n\u001b[1;32m----> 1\u001b[0m root_folder \u001b[38;5;241m=\u001b[39m \u001b[43mos\u001b[49m\u001b[38;5;241m.\u001b[39mpath\u001b[38;5;241m.\u001b[39mexpanduser(\u001b[38;5;124m'\u001b[39m\u001b[38;5;124mC:/Users/ica/OneDrive - Plymouth Marine Laboratory/vscode/TOC/data\u001b[39m\u001b[38;5;124m'\u001b[39m)  \u001b[38;5;66;03m# yourpath\u001b[39;00m\n\u001b[0;32m      2\u001b[0m picarro_df \u001b[38;5;241m=\u001b[39m toc_functions\u001b[38;5;241m.\u001b[39mmerge_picarro_files(root_folder)\n",
      "\u001b[1;31mNameError\u001b[0m: name 'os' is not defined"
     ]
    }
   ],
   "source": [
    "root_folder = os.path.expanduser('C:/Users/ica/OneDrive - Plymouth Marine Laboratory/vscode/TOC/data')  # yourpath\n",
    "picarro_df = toc_functions.merge_picarro_files(root_folder)"
   ]
  },
  {
   "cell_type": "code",
   "execution_count": null,
   "metadata": {},
   "outputs": [],
   "source": [
    "\n",
    "# filter by time\n",
    "\n",
    "start_time = datetime.datetime(2024, 10, 24, 16, 30, 0)\n",
    "end_time = datetime.datetime(2024, 10, 25, 8, 15, 0)\n"
   ]
  },
  {
   "cell_type": "code",
   "execution_count": null,
   "metadata": {},
   "outputs": [],
   "source": [
    "picarro_df.set_index('datetime', inplace=True)\n",
    "\n",
    "picarro_df = picarro_df.loc[start_time:end_time]\n"
   ]
  },
  {
   "cell_type": "code",
   "execution_count": 1,
   "metadata": {},
   "outputs": [
    {
     "ename": "NameError",
     "evalue": "name 'toc_functions' is not defined",
     "output_type": "error",
     "traceback": [
      "\u001b[1;31m---------------------------------------------------------------------------\u001b[0m",
      "\u001b[1;31mNameError\u001b[0m                                 Traceback (most recent call last)",
      "Cell \u001b[1;32mIn[1], line 2\u001b[0m\n\u001b[0;32m      1\u001b[0m \u001b[38;5;66;03m# apply QC\u001b[39;00m\n\u001b[1;32m----> 2\u001b[0m picarro_df \u001b[38;5;241m=\u001b[39m \u001b[43mtoc_functions\u001b[49m\u001b[38;5;241m.\u001b[39mqc(picarro_df)\n\u001b[0;32m      4\u001b[0m \u001b[38;5;66;03m# TOC averages\u001b[39;00m\n\u001b[0;32m      5\u001b[0m TOC_df \u001b[38;5;241m=\u001b[39m toc_functions\u001b[38;5;241m.\u001b[39mTOC_df(picarro_df)\n",
      "\u001b[1;31mNameError\u001b[0m: name 'toc_functions' is not defined"
     ]
    }
   ],
   "source": [
    "# apply QC\n",
    "picarro_df = toc_functions.qc(picarro_df)\n",
    "\n",
    "# TOC averages\n",
    "TOC_df = toc_functions.TOC_df(picarro_df)\n",
    "\n",
    "# Calculate final TOC\n",
    "toc = toc_functions.calculate_toc(TOC_df)"
   ]
  }
 ],
 "metadata": {
  "kernelspec": {
   "display_name": "irene2",
   "language": "python",
   "name": "python3"
  },
  "language_info": {
   "codemirror_mode": {
    "name": "ipython",
    "version": 3
   },
   "file_extension": ".py",
   "mimetype": "text/x-python",
   "name": "python",
   "nbconvert_exporter": "python",
   "pygments_lexer": "ipython3",
   "version": "3.10.15"
  }
 },
 "nbformat": 4,
 "nbformat_minor": 2
}
